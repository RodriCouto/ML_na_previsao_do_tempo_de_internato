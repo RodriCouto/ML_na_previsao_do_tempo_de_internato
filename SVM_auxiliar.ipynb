{
 "cells": [
  {
   "cell_type": "markdown",
   "metadata": {},
   "source": [
    "# Projeto ML\n",
    "\n",
    "Trabalho de:\n",
    "\n",
    "* Bárbara Simões Neto up\n",
    "* Beatriz Castro up\n",
    "* Rodrigo Couto up202104696\n",
    "\n",
    "\n",
    "sites usados até então:\n",
    "\n",
    "https://scikit-learn.org/stable/modules/generated/sklearn.datasets.make_classification.html\n",
    "\n",
    "https://link.springer.com/article/10.1007/s10618-021-00737-9 (so vi as imagens para perceber o que era os diferentes tipos de datasets que o chatzaome deu, elas sao bastantes intuitivas)\n",
    "\n",
    "\n"
   ]
  },
  {
   "cell_type": "code",
   "execution_count": 3,
   "metadata": {},
   "outputs": [],
   "source": [
    "import numpy as np\n",
    "import pandas as pd\n",
    "from sklearn.datasets import make_classification, make_moons, make_circles, make_blobs\n",
    "from sklearn.svm import LinearSVC\n",
    "from sklearn.model_selection import cross_val_score, StratifiedKFold\n",
    "from sklearn.model_selection import train_test_split\n",
    "from sklearn.preprocessing import StandardScaler\n",
    "from sklearn.svm import SVC  \n",
    "import matplotlib.pyplot as plt\n",
    "from sklearn.metrics import zero_one_loss\n",
    "from mlxtend.evaluate import bias_variance_decomp\n"
   ]
  },
  {
   "cell_type": "code",
   "execution_count": null,
   "metadata": {},
   "outputs": [],
   "source": [
    "#Gerar datasets\n",
    "\n",
    "def generate_mixed_dataset(n_samples, n_features, n_categorical, n_ordinal, n_integer, \n",
    "                           n_classes, class_balance=None, noise=0.0, \n",
    "                           dataset_type='linear', random_state=42):\n",
    "\n",
    "    np.random.seed(random_state)\n",
    "\n",
    "    if dataset_type == 'linear':\n",
    "        X, y = make_classification(n_samples=n_samples, n_features=n_features, \n",
    "                                  n_informative=n_features, n_redundant=0, \n",
    "                                  n_classes=n_classes, weights=class_balance, \n",
    "                                  flip_y=noise, random_state=random_state, class_sep=2)\n",
    "    elif dataset_type == 'moons':\n",
    "        X, y = make_moons(n_samples=n_samples, noise=noise, random_state=random_state)\n",
    "        if n_features > 2:\n",
    "            extra_features = np.random.rand(n_samples, n_features - 2) * 100\n",
    "            X = np.hstack([X, extra_features])\n",
    "    elif dataset_type == 'circles':\n",
    "        X, y = make_circles(n_samples=n_samples, noise=noise, random_state=random_state)\n",
    "        if n_features > 2:\n",
    "            extra_features = np.random.rand(n_samples, n_features - 2) * 100\n",
    "            X = np.hstack([X, extra_features])\n",
    "    elif dataset_type == 'blobs':\n",
    "        X, y = make_blobs(n_samples=n_samples, centers=n_classes, cluster_std=noise*10, \n",
    "                          random_state=random_state)\n",
    "        if n_features > 2:\n",
    "            extra_features = np.random.rand(n_samples, n_features - 2) * 100\n",
    "            X = np.hstack([X, extra_features])\n",
    "    else:\n",
    "        raise ValueError(\"Tipo de dataset não suportado. Use 'linear', 'moons', 'circles' ou 'blobs'.\")\n",
    "\n",
    "    categorical_data = np.random.choice(['A', 'B', 'C', 'D', 'E'], size=(n_samples, n_categorical))\n",
    "\n",
    "    ordinal_data = np.random.randint(1, 6, size=(n_samples, n_ordinal))  #podem mudar estes valores para criar dataset mais especificos\n",
    "\n",
    "    integer_data = np.random.randint(0, 100, size=(n_samples, n_integer))  #podem mudar estes valores para criar dataset mais especificos\n",
    "\n",
    "    # Combina todos os dados em um único array\n",
    "    data = np.hstack([X, categorical_data, ordinal_data, integer_data])\n",
    "\n",
    "    columns = [f'Continuous_{i+1}' for i in range(n_features)] + \\\n",
    "              [f'Categorical_{i+1}' for i in range(n_categorical)] + \\\n",
    "              [f'Ordinal_{i+1}' for i in range(n_ordinal)] + \\\n",
    "              [f'Integer_{i+1}' for i in range(n_integer)]\n",
    "    df = pd.DataFrame(data, columns=columns)\n",
    "\n",
    "    # Adiciona a coluna target\n",
    "    df['Target'] = y\n",
    "\n",
    "    # Converte as colunas para os tipos corretos\n",
    "    for col in df.columns:\n",
    "        if col.startswith('Continuous'):\n",
    "            df[col] = df[col].astype(float)\n",
    "        elif col.startswith('Ordinal') or col.startswith('Integer'):\n",
    "            df[col] = df[col].astype(int)\n",
    "\n",
    "    return df"
   ]
  },
  {
   "cell_type": "markdown",
   "metadata": {},
   "source": [
    "# SVM linear"
   ]
  },
  {
   "cell_type": "markdown",
   "metadata": {},
   "source": [
    "Linear SVMs work best with specific types of datasets. They are ideal for linearly separable data, where classes can be clearly divided by a straight line. They also perform well with high-dimensional data, like text or datasets with many features, as they focus on finding a linear decision boundary. Numerical data (continuous or integer values) works best, while categorical data needs to be transformed (e.g., using one-hot encoding). However, linear SVMs have limitations. They struggle with large datasets due to high computational costs and memory usage. They also perform poorly on imbalanced datasets, often favoring the majority class, and on noisy data where classes overlap significantly. For multiclass problems, additional techniques like One-vs-Rest or One-vs-One are needed, as linear SVMs are designed for binary classification. In summary, linear SVMs are best suited for small to medium-sized, high-dimensional, linearly separable datasets with balanced classes and minimal noise."
   ]
  },
  {
   "cell_type": "code",
   "execution_count": 5,
   "metadata": {},
   "outputs": [
    {
     "name": "stdout",
     "output_type": "stream",
     "text": [
      "Best Dataset for Linear SVM:\n",
      "   Continuous_1  Continuous_2  Continuous_3  Continuous_4  Continuous_5  \\\n",
      "0     -2.307608      1.668358      2.252106     -1.968564     -4.929186   \n",
      "1      4.389963     -0.578385     -2.722650     -2.982947      7.632946   \n",
      "2     -1.897597      2.994106      0.755542     -5.697095      2.729707   \n",
      "3      3.867551     -1.917197      2.019131     -0.850470      2.443705   \n",
      "4     -2.549646      2.202160      2.300397      0.795324     -3.497897   \n",
      "\n",
      "   Continuous_6  Continuous_7  Continuous_8  Continuous_9  Continuous_10  ...  \\\n",
      "0      0.772611     -5.188637      0.909699      0.951789       1.001922  ...   \n",
      "1      3.088414     -2.569981      3.337391     -6.984058      -0.624044  ...   \n",
      "2     -0.131957     -1.698201      0.369110     -0.722678      -1.358863  ...   \n",
      "3      3.185501     -4.957228     -4.213375     -0.848798       1.247323  ...   \n",
      "4     -2.680108     -2.706487      5.675596      2.201553      -4.804617  ...   \n",
      "\n",
      "   Continuous_20  Integer_1  Integer_2  Integer_3  Integer_4  Integer_5  \\\n",
      "0       0.922478         51         92         14         71         60   \n",
      "1      -6.481013         74         74         87         99         23   \n",
      "2       2.388573          1         87         29         37          1   \n",
      "3      -3.524633         32         75         57         21         88   \n",
      "4       0.128734         41         91         59         79         14   \n",
      "\n",
      "   Integer_6  Integer_7  Integer_8  Target  \n",
      "0         20         82         86       1  \n",
      "1          2         21         52       1  \n",
      "2         63         59         20       1  \n",
      "3         48         90         58       1  \n",
      "4         61         61         46       1  \n",
      "\n",
      "[5 rows x 29 columns]\n"
     ]
    }
   ],
   "source": [
    "#gerar dataset adequado\n",
    "\n",
    "df_svm_linear = generate_mixed_dataset(n_samples=500, n_features=20, n_categorical=0, n_ordinal=0, n_integer=8,\n",
    "                                                  n_classes=2, class_balance=None, noise=0.1, dataset_type='linear')\n",
    "\n",
    "print(\"Best Dataset for Linear SVM:\")\n",
    "print(df_svm_linear.head())\n"
   ]
  },
  {
   "cell_type": "code",
   "execution_count": 6,
   "metadata": {},
   "outputs": [],
   "source": [
    "X1 = df_svm_linear.drop('Target', axis=1)  \n",
    "y1 = df_svm_linear['Target']  \n",
    "\n",
    "X1_train, X1_test, y1_train, y1_test = train_test_split(X1, y1, test_size=0.2, random_state=42)\n",
    "\n",
    "scaler_linear = StandardScaler()\n",
    "X1_train = scaler_linear.fit_transform(X1_train)\n",
    "X1_test = scaler_linear.transform(X1_test)\n",
    "\n",
    "model_linear = LinearSVC(C=0.1, random_state=42)\n",
    "model_linear.fit(X1_train, y1_train)\n",
    "\n",
    "y_pred_linear = model_linear.predict(X1_test)\n",
    "\n",
    "df_svm_linear_2 = generate_mixed_dataset(n_samples=150, n_features=20, n_categorical=0, n_ordinal=0, n_integer=8,\n",
    "                                       n_classes=2, class_balance=None, noise=0.1, dataset_type='linear')\n",
    "\n",
    "X_2linear = df_svm_linear_2.drop('Target', axis=1)\n",
    "y_2linear = df_svm_linear_2['Target']\n",
    "\n",
    "X_2linear = scaler_linear.transform(X_2linear)\n",
    "\n",
    "y_pred_2linear = model_linear.predict(X_2linear)\n",
    "\n",
    "# cv_linear = StratifiedKFold(n_splits=5, shuffle=True, random_state=42)\n",
    "# cv_scores_linear = cross_val_score(model_linear, X_2linear, y_2linear, cv=cv_linear, scoring='accuracy')\n",
    "\n",
    "# print(f\"Linear SVM Cross-Validation Accuracy: {cv_scores_linear.mean():.2f} (± {cv_scores_linear.std():.2f})\")\n",
    "# print(\"\\nLinear SVM Fold Accuracies:\")\n",
    "# for i, score in enumerate(cv_scores_linear, start=1):\n",
    "#     print(f\"Fold {i}: {score:.2f}\")"
   ]
  },
  {
   "cell_type": "markdown",
   "metadata": {},
   "source": [
    "# SVM RBF"
   ]
  },
  {
   "cell_type": "markdown",
   "metadata": {},
   "source": [
    "The SVM RBF (Radial Basis Function) kernel is ideal for non-linear and complex datasets, as it can capture intricate patterns where classes are not linearly separable. It also handles noisy or overlapping data better than linear SVMs, creating flexible decision boundaries. However, its performance depends heavily on hyperparameter tuning, such as the gamma value. For other aspects, like handling high-dimensional data, numerical features, large datasets, imbalanced classes, and multiclass problems, it behaves similarly to linear SVMs."
   ]
  },
  {
   "cell_type": "code",
   "execution_count": 7,
   "metadata": {},
   "outputs": [
    {
     "name": "stdout",
     "output_type": "stream",
     "text": [
      "\n",
      "Melhor Dataset para SVM RBF:\n",
      "   Continuous_1  Continuous_2  Continuous_3  Continuous_4  Continuous_5  \\\n",
      "0      0.830858     -0.334342     37.454012     95.071431     73.199394   \n",
      "1      0.991710      0.879000     43.194502     29.122914     61.185289   \n",
      "2      1.107245     -0.470344     30.461377      9.767211     68.423303   \n",
      "3     -0.140899      1.033148     59.789998     92.187424      8.849250   \n",
      "4      0.405592      1.328529      0.552212     81.546143     70.685734   \n",
      "\n",
      "   Continuous_6  Continuous_7  Continuous_8  Continuous_9  Continuous_10  ...  \\\n",
      "0     59.865848     15.601864     15.599452      5.808361      86.617615  ...   \n",
      "1     13.949386     29.214465     36.636184     45.606998      78.517596  ...   \n",
      "2     44.015249     12.203823     49.517691      3.438852      90.932040  ...   \n",
      "3     19.598286      4.522729     32.533033     38.867729      27.134903  ...   \n",
      "4     72.900717     77.127035      7.404465     35.846573      11.586906  ...   \n",
      "\n",
      "   Ordinal_1  Integer_1  Integer_2  Integer_3  Integer_4  Integer_5  \\\n",
      "0          5         88         53         56         19         48   \n",
      "1          2         92         12          2          1         15   \n",
      "2          4         70          4         55         70         97   \n",
      "3          5         29         24         84         59         58   \n",
      "4          1         19         33          4         81         59   \n",
      "\n",
      "   Integer_6  Integer_7  Integer_8  Target  \n",
      "0          6         28         47       1  \n",
      "1         93          5         44       0  \n",
      "2         31         48         12       1  \n",
      "3         84         27         57       0  \n",
      "4         42         56         56       0  \n",
      "\n",
      "[5 rows x 30 columns]\n"
     ]
    }
   ],
   "source": [
    "#gerar dataset\n",
    "df_svm_rbf = generate_mixed_dataset(n_samples=500, n_features=20, n_categorical=0,n_ordinal=1,n_integer=8,\n",
    "    n_classes=2,class_balance=None,noise=0.2,dataset_type='moons', random_state=42)\n",
    "\n",
    "print(\"\\nMelhor Dataset para SVM RBF:\")\n",
    "print(df_svm_rbf.head())\n"
   ]
  },
  {
   "cell_type": "code",
   "execution_count": 8,
   "metadata": {},
   "outputs": [],
   "source": [
    "X2 = df_svm_rbf.drop('Target', axis=1)\n",
    "y2 = df_svm_rbf['Target']\n",
    "\n",
    "X2_train, X2_test, y2_train, y2_test = train_test_split(X2, y2, test_size=0.2, random_state=42)\n",
    "\n",
    "scaler_rbf = StandardScaler()\n",
    "X2_train = scaler_rbf.fit_transform(X2_train)\n",
    "X2_test = scaler_rbf.transform(X2_test)\n",
    "\n",
    "model_rbf = SVC(C=1.0, kernel='rbf', gamma='scale', random_state=42)\n",
    "model_rbf.fit(X2_train, y2_train)\n",
    "\n",
    "y_pred_rbf = model_rbf.predict(X2_test)\n",
    "\n",
    "df_svm_rbf_2 = generate_mixed_dataset(n_samples=150, n_features=20, n_categorical=0, n_ordinal=1, n_integer=8,\n",
    "                                    n_classes=2, class_balance=None, noise=0.2, dataset_type='moons')\n",
    "\n",
    "X_2rbf = df_svm_rbf_2.drop('Target', axis=1)\n",
    "y_2rbf = df_svm_rbf_2['Target']\n",
    "\n",
    "X_2rbf = scaler_rbf.transform(X_2rbf)\n",
    "\n",
    "y_pred_2rbf = model_rbf.predict(X_2rbf)\n",
    "\n",
    "# cv_rbf = StratifiedKFold(n_splits=5, shuffle=True, random_state=42)\n",
    "# cv_scores_rbf = cross_val_score(model_rbf, X_2rbf, y_2rbf, cv=cv_rbf, scoring='accuracy')\n",
    "\n",
    "# print(f\"\\nRBF SVM Cross-Validation Accuracy: {cv_scores_rbf.mean():.2f} (± {cv_scores_rbf.std():.2f})\")\n",
    "# print(\"\\nRBF SVM Fold Accuracies:\")\n",
    "# for i, score in enumerate(cv_scores_rbf, start=1):\n",
    "#     print(f\"Fold {i}: {score:.2f}\")"
   ]
  },
  {
   "cell_type": "markdown",
   "metadata": {},
   "source": [
    "## Bias, Variance and Total loss"
   ]
  },
  {
   "cell_type": "code",
   "execution_count": 9,
   "metadata": {},
   "outputs": [],
   "source": [
    "X1_np = X1_train  \n",
    "y1_np = y1_train.values if hasattr(y1_train, 'values') else y1_train\n",
    "X1_np_test = X1_test\n",
    "y1_np_test = y1_test.values if hasattr(y1_test, 'values') else y1_test\n",
    "\n",
    "\n",
    "X2_np = X2_train\n",
    "y2_np = y2_train.values if hasattr(y2_train, 'values') else y2_train\n",
    "X2_np_test = X2_test\n",
    "y2_np_test = y2_test.values if hasattr(y2_test, 'values') else y2_test"
   ]
  },
  {
   "cell_type": "code",
   "execution_count": 10,
   "metadata": {},
   "outputs": [],
   "source": [
    "model_names = ['Linear SVM', 'RBF SVM']\n",
    "biases = []\n",
    "variances = []\n",
    "losses = []\n",
    "\n",
    "# Calcular para Linear SVM\n",
    "loss_linear, bias_linear, var_linear = bias_variance_decomp(\n",
    "        model_linear, X1_np, y1_np, X1_np_test, y1_np_test,\n",
    "        loss='0-1_loss', random_seed=13\n",
    "    )\n",
    "losses.append(loss_linear)\n",
    "biases.append(bias_linear)\n",
    "variances.append(var_linear)\n",
    "\n",
    "# Calcular para RBF SVM\n",
    "loss_rbf, bias_rbf, var_rbf = bias_variance_decomp(\n",
    "        model_rbf, X2_np, y2_np, X2_np_test, y2_np_test,\n",
    "        loss='0-1_loss', random_seed=13\n",
    "    )\n",
    "losses.append(loss_rbf)\n",
    "biases.append(bias_rbf)\n",
    "variances.append(var_rbf)"
   ]
  },
  {
   "cell_type": "code",
   "execution_count": 11,
   "metadata": {},
   "outputs": [
    {
     "data": {
      "image/png": "[encoded data removed]",
      "text/plain": [
       "<Figure size 1000x600 with 1 Axes>"
      ]
     },
     "metadata": {},
     "output_type": "display_data"
    },
    {
     "name": "stdout",
     "output_type": "stream",
     "text": [
      "Model Comparison:\n",
      "\n",
      "Linear SVM:\n",
      "Bias: 0.1500\n",
      "Variance: 0.0575\n",
      "Total Loss: 0.1643\n",
      "\n",
      "RBF SVM:\n",
      "Bias: 0.1500\n",
      "Variance: 0.0405\n",
      "Total Loss: 0.1589\n"
     ]
    }
   ],
   "source": [
    "x = np.arange(len(model_names))\n",
    "width = 0.25\n",
    "\n",
    "plt.figure(figsize=(10, 6))\n",
    "plt.bar(x - width, biases, width, label='Bias', color=\"darkslateblue\")\n",
    "plt.bar(x, variances, width, label='Variance', color=\"rebeccapurple\")\n",
    "plt.bar(x + width, losses, width, label='Total Loss', color=\"maroon\")\n",
    "\n",
    "plt.xticks(x, model_names)\n",
    "plt.ylabel('Error')\n",
    "plt.title('Bias-Variance Tradeoff: Linear SVM vs RBF SVM')\n",
    "plt.legend()\n",
    "plt.tight_layout()\n",
    "plt.show()\n",
    "\n",
    "print(\"Model Comparison:\")\n",
    "for name, bias, var, loss in zip(model_names, biases, variances, losses):\n",
    "    print(f\"\\n{name}:\")\n",
    "    print(f\"Bias: {bias:.4f}\")\n",
    "    print(f\"Variance: {var:.4f}\")\n",
    "    print(f\"Total Loss: {loss:.4f}\")"
   ]
  },
  {
   "cell_type": "markdown",
   "metadata": {},
   "source": [
    "## Cross-Validation"
   ]
  },
  {
   "cell_type": "code",
   "execution_count": 12,
   "metadata": {},
   "outputs": [
    {
     "name": "stderr",
     "output_type": "stream",
     "text": [
      "C:\\Users\\rodri\\AppData\\Local\\Temp\\ipykernel_15732\\1715511406.py:13: MatplotlibDeprecationWarning: The 'labels' parameter of boxplot() has been renamed 'tick_labels' since Matplotlib 3.9; support for the old name will be dropped in 3.11.\n",
      "  plt.boxplot([cv_linear, cv_rbf],\n"
     ]
    },
    {
     "data": {
      "image/png": "[encoded data removed]",
      "text/plain": [
       "<Figure size 800x600 with 1 Axes>"
      ]
     },
     "metadata": {},
     "output_type": "display_data"
    }
   ],
   "source": [
    "cv_linear = cross_val_score(model_linear, X1_test, y1_test, cv=8)\n",
    "cv_rbf = cross_val_score(model_rbf, X2_test, y2_test, cv=8)\n",
    "\n",
    "\n",
    "df_cv_scores_svm = pd.DataFrame({\n",
    "    'Fold': [f'Fold {i+1}' for i in range(8)],\n",
    "    'Linear SVM': cv_linear,\n",
    "    'RBF SVM': cv_rbf\n",
    "})\n",
    "\n",
    "\n",
    "plt.figure(figsize=(8, 6))\n",
    "plt.boxplot([cv_linear, cv_rbf], \n",
    "            labels=['Linear SVM', 'RBF SVM'], \n",
    "            patch_artist=True,\n",
    "            boxprops=dict(facecolor='royalblue'))\n",
    "plt.ylabel('Accuracy Score')\n",
    "plt.title('Cross-Validation Comparison: Linear SVM vs RBF SVM (8 folds)')\n",
    "plt.grid(True, linestyle='--', alpha=0.7)\n",
    "plt.tight_layout()\n",
    "plt.show()\n"
   ]
  }
 ],
 "metadata": {
  "kernelspec": {
   "display_name": "Python 3",
   "language": "python",
   "name": "python3"
  },
  "language_info": {
   "codemirror_mode": {
    "name": "ipython",
    "version": 3
   },
   "file_extension": ".py",
   "mimetype": "text/x-python",
   "name": "python",
   "nbconvert_exporter": "python",
   "pygments_lexer": "ipython3",
   "version": "3.13.2"
  }
 },
 "nbformat": 4,
 "nbformat_minor": 2
}
