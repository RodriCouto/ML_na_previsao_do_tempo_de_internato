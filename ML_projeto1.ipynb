{
 "cells": [
  {
   "cell_type": "markdown",
   "metadata": {},
   "source": [
    "# Projeto ML\n",
    "\n",
    "Trabalho de:\n",
    "\n",
    "* Bárbara Simões Neto up\n",
    "* Beatriz Castro up\n",
    "* Rodrigo Couto up202104696\n",
    "\n",
    "\n",
    "sites usados até então:\n",
    "\n",
    "https://scikit-learn.org/stable/modules/generated/sklearn.datasets.make_classification.html\n",
    "\n",
    "https://link.springer.com/article/10.1007/s10618-021-00737-9 (so vi as imagens para perceber o que era os diferentes tipos de datasets que o chatzaome deu, elas sao bastantes intuitivas)\n",
    "\n",
    "\n"
   ]
  },
  {
   "cell_type": "code",
   "execution_count": null,
   "metadata": {},
   "outputs": [],
   "source": [
    "import numpy as np\n",
    "import pandas as pd\n",
    "from sklearn.datasets import make_classification, make_moons, make_circles, make_blobs\n",
    "\n",
    "\n",
    "#Gerar datasets\n",
    "\n",
    "def generate_mixed_dataset(n_samples, n_features, n_categorical, n_ordinal, n_integer, \n",
    "                           n_classes, class_balance=None, noise=0.0, \n",
    "                           dataset_type='linear', random_state=42):\n",
    "\n",
    "    np.random.seed(random_state)\n",
    "\n",
    "    if dataset_type == 'linear':\n",
    "        X, y = make_classification(n_samples=n_samples, n_features=n_features, \n",
    "                                  n_informative=n_features, n_redundant=0, \n",
    "                                  n_classes=n_classes, weights=class_balance, \n",
    "                                  flip_y=noise, random_state=random_state)\n",
    "    elif dataset_type == 'moons':\n",
    "        X, y = make_moons(n_samples=n_samples, noise=noise, random_state=random_state)\n",
    "        if n_features > 2:\n",
    "            extra_features = np.random.rand(n_samples, n_features - 2) * 100\n",
    "            X = np.hstack([X, extra_features])\n",
    "    elif dataset_type == 'circles':\n",
    "        X, y = make_circles(n_samples=n_samples, noise=noise, random_state=random_state)\n",
    "        if n_features > 2:\n",
    "            extra_features = np.random.rand(n_samples, n_features - 2) * 100\n",
    "            X = np.hstack([X, extra_features])\n",
    "    elif dataset_type == 'blobs':\n",
    "        X, y = make_blobs(n_samples=n_samples, centers=n_classes, cluster_std=noise*10, \n",
    "                          random_state=random_state)\n",
    "        if n_features > 2:\n",
    "            extra_features = np.random.rand(n_samples, n_features - 2) * 100\n",
    "            X = np.hstack([X, extra_features])\n",
    "    else:\n",
    "        raise ValueError(\"Tipo de dataset não suportado. Use 'linear', 'moons', 'circles' ou 'blobs'.\")\n",
    "\n",
    "    categorical_data = np.random.choice(['A', 'B', 'C', 'D'], size=(n_samples, n_categorical))\n",
    "\n",
    "    ordinal_data = np.random.randint(1, 6, size=(n_samples, n_ordinal))  #podem mudar estes valores para criar dataset mais especificos\n",
    "\n",
    "    integer_data = np.random.randint(0, 100, size=(n_samples, n_integer))  #podem mudar estes valores para criar dataset mais especificos\n",
    "\n",
    "    # Combina todos os dados em um único array\n",
    "    data = np.hstack([X, categorical_data, ordinal_data, integer_data])\n",
    "\n",
    "    columns = [f'Continuous_{i+1}' for i in range(n_features)] + \\\n",
    "              [f'Categorical_{i+1}' for i in range(n_categorical)] + \\\n",
    "              [f'Ordinal_{i+1}' for i in range(n_ordinal)] + \\\n",
    "              [f'Integer_{i+1}' for i in range(n_integer)]\n",
    "    df = pd.DataFrame(data, columns=columns)\n",
    "\n",
    "    # Adiciona a coluna target\n",
    "    df['Target'] = y\n",
    "\n",
    "    # Converte as colunas para os tipos corretos\n",
    "    for col in df.columns:\n",
    "        if col.startswith('Continuous'):\n",
    "            df[col] = df[col].astype(float)\n",
    "        elif col.startswith('Ordinal') or col.startswith('Integer'):\n",
    "            df[col] = df[col].astype(int)\n",
    "\n",
    "    return df"
   ]
  },
  {
   "cell_type": "code",
   "execution_count": null,
   "metadata": {},
   "outputs": [],
   "source": [
    "# Exemplo de dataset a criar\n",
    "df_linear = generate_mixed_dataset(n_samples=300, n_features=15, n_categorical=4, n_ordinal=3, n_integer=3,\n",
    "                                   n_classes=3, class_balance=[0.6, 0.3, 0.1], noise=0.2, dataset_type='linear')"
   ]
  },
  {
   "cell_type": "code",
   "execution_count": 14,
   "metadata": {},
   "outputs": [
    {
     "name": "stdout",
     "output_type": "stream",
     "text": [
      "Dataset 1 - Linear:\n",
      "   Continuous_1  Continuous_2  Continuous_3  Continuous_4  Continuous_5  \\\n",
      "0      6.989648     -1.945206      3.023859      1.182231      0.278835   \n",
      "1      3.006515     -4.898161      6.333545     -0.275117     -0.568798   \n",
      "2     -2.969395     -2.618095      2.442972      1.146152     -1.361517   \n",
      "3      4.504825     -0.694414     -1.174836     -0.794338      3.717030   \n",
      "4     -3.487806      1.616072      1.264624      4.659925     -0.047828   \n",
      "\n",
      "   Continuous_6  Continuous_7  Continuous_8  Continuous_9  Continuous_10  ...  \\\n",
      "0      5.244402     -0.559871      2.010185     -2.379406       1.560066  ...   \n",
      "1      3.374050      1.749962     -1.692300      0.005870       4.145944  ...   \n",
      "2      0.898219     -2.436304     -1.847875      3.278797       4.552161  ...   \n",
      "3     -0.748132     -2.793930      2.759622     -1.252518      -2.317956  ...   \n",
      "4      5.085898      0.254505      0.702009     -1.098722      -1.904772  ...   \n",
      "\n",
      "   Categorical_2  Categorical_3  Categorical_4  Ordinal_1  Ordinal_2  \\\n",
      "0              D              A              C          5          2   \n",
      "1              D              A              A          2          5   \n",
      "2              B              C              C          1          5   \n",
      "3              C              D              A          4          2   \n",
      "4              D              D              C          1          2   \n",
      "\n",
      "  Ordinal_3 Integer_1 Integer_2 Integer_3  Target  \n",
      "0         4        11        86        11       1  \n",
      "1         5        12        24        44       1  \n",
      "2         1        18        54        99       0  \n",
      "3         2        44         7        92       1  \n",
      "4         5        52        54        31       2  \n",
      "\n",
      "[5 rows x 26 columns]\n"
     ]
    }
   ],
   "source": [
    "#Dataset 1\n",
    "print(\"Dataset 1 - Linear:\")\n",
    "print(df_linear.head())"
   ]
  }
 ],
 "metadata": {
  "kernelspec": {
   "display_name": "Python 3",
   "language": "python",
   "name": "python3"
  },
  "language_info": {
   "codemirror_mode": {
    "name": "ipython",
    "version": 3
   },
   "file_extension": ".py",
   "mimetype": "text/x-python",
   "name": "python",
   "nbconvert_exporter": "python",
   "pygments_lexer": "ipython3",
   "version": "3.10.0"
  }
 },
 "nbformat": 4,
 "nbformat_minor": 2
}
