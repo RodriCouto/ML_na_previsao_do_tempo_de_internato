{
 "cells": [
  {
   "cell_type": "markdown",
   "metadata": {},
   "source": [
    "# Projeto ML\n",
    "\n",
    "Trabalho de:\n",
    "\n",
    "* Bárbara Simões Neto up\n",
    "* Beatriz Castro up\n",
    "* Rodrigo Couto up202104696\n",
    "\n",
    "\n",
    "sites usados até então:\n",
    "\n",
    "https://scikit-learn.org/stable/modules/generated/sklearn.datasets.make_classification.html\n",
    "\n",
    "https://link.springer.com/article/10.1007/s10618-021-00737-9 (so vi as imagens para perceber o que era os diferentes tipos de datasets que o chatzaome deu, elas sao bastantes intuitivas)\n",
    "\n",
    "\n"
   ]
  },
  {
   "cell_type": "code",
   "execution_count": null,
   "metadata": {},
   "outputs": [],
   "source": [
    "import numpy as np\n",
    "import pandas as pd\n",
    "from sklearn.datasets import make_classification, make_moons, make_circles, make_blobs\n",
    "\n",
    "\n",
    "#Gerar datasets\n",
    "\n",
    "def generate_mixed_dataset(n_samples, n_features, n_categorical, n_ordinal, n_integer, \n",
    "                           n_classes, class_balance=None, noise=0.0, \n",
    "                           dataset_type='linear', random_state=42):\n",
    "\n",
    "    np.random.seed(random_state)\n",
    "\n",
    "    if dataset_type == 'linear':\n",
    "        X, y = make_classification(n_samples=n_samples, n_features=n_features, \n",
    "                                  n_informative=n_features, n_redundant=0, \n",
    "                                  n_classes=n_classes, weights=class_balance, \n",
    "                                  flip_y=noise, random_state=random_state)\n",
    "    elif dataset_type == 'moons':\n",
    "        X, y = make_moons(n_samples=n_samples, noise=noise, random_state=random_state)\n",
    "        if n_features > 2:\n",
    "            extra_features = np.random.rand(n_samples, n_features - 2) * 100\n",
    "            X = np.hstack([X, extra_features])\n",
    "    elif dataset_type == 'circles':\n",
    "        X, y = make_circles(n_samples=n_samples, noise=noise, random_state=random_state)\n",
    "        if n_features > 2:\n",
    "            extra_features = np.random.rand(n_samples, n_features - 2) * 100\n",
    "            X = np.hstack([X, extra_features])\n",
    "    elif dataset_type == 'blobs':\n",
    "        X, y = make_blobs(n_samples=n_samples, centers=n_classes, cluster_std=noise*10, \n",
    "                          random_state=random_state)\n",
    "        if n_features > 2:\n",
    "            extra_features = np.random.rand(n_samples, n_features - 2) * 100\n",
    "            X = np.hstack([X, extra_features])\n",
    "    else:\n",
    "        raise ValueError(\"Tipo de dataset não suportado. Use 'linear', 'moons', 'circles' ou 'blobs'.\")\n",
    "\n",
    "    categorical_data = np.random.choice(['A', 'B', 'C', 'D'], size=(n_samples, n_categorical))\n",
    "\n",
    "    ordinal_data = np.random.randint(1, 6, size=(n_samples, n_ordinal))  # Valores de 1 a 5\n",
    "\n",
    "    integer_data = np.random.randint(0, 100, size=(n_samples, n_integer))  # Valores de 0 a 99\n",
    "\n",
    "    # Combina todos os dados em um único array\n",
    "    data = np.hstack([X, categorical_data, ordinal_data, integer_data])\n",
    "\n",
    "    columns = [f'Continuous_{i+1}' for i in range(n_features)] + \\\n",
    "              [f'Categorical_{i+1}' for i in range(n_categorical)] + \\\n",
    "              [f'Ordinal_{i+1}' for i in range(n_ordinal)] + \\\n",
    "              [f'Integer_{i+1}' for i in range(n_integer)]\n",
    "    df = pd.DataFrame(data, columns=columns)\n",
    "\n",
    "    # Adiciona a coluna target\n",
    "    df['Target'] = y\n",
    "\n",
    "    # Converte as colunas para os tipos corretos\n",
    "    for col in df.columns:\n",
    "        if col.startswith('Continuous'):\n",
    "            df[col] = df[col].astype(float)\n",
    "        elif col.startswith('Ordinal') or col.startswith('Integer'):\n",
    "            df[col] = df[col].astype(int)\n",
    "\n",
    "    return df"
   ]
  },
  {
   "cell_type": "markdown",
   "metadata": {},
   "source": [
    "Tabela dos datasets usados:\n",
    "\n",
    "| Índice | Dataset               | Número de Samples | Número de Features | Número de Classes | Proporção das Classes       | Ruído | Tipo de Dataset |\n",
    "|--------|-----------------------|-------------------|--------------------|-------------------|-----------------------------|-------|-----------------|\n",
    "| 1      | Linear                | 300               | 15                 | 3                 | [0.6, 0.3, 0.1]             | 0.2   | Linear          |\n",
    "| 2      | Moons                 | 150               | 8                  | 2                 | Balanceado                  | 0.1   | Moons           |\n",
    "| 3      | Circles               | 250               | 12                 | 4                 | [0.5, 0.3, 0.15, 0.05]      | 0.1   | Circles         |\n",
    "| 4      | Blobs                 | 200               | 10                 | 3                 | [0.7, 0.2, 0.1]             | 0.2   | Blobs           |\n",
    "| 5      | Complex (Blobs)       | 400               | 20                 | 4                 | [0.5, 0.3, 0.15, 0.05]      | 0.4   | Blobs           |\n",
    "| 6      | Noisy Linear          | 100               | 5                  | 2                 | Balanceado                  | 0.5   | Linear          |\n",
    "| 7      | Multi Moons           | 500               | 25                 | 5                 | [0.4, 0.3, 0.2, 0.08, 0.02] | 0.3   | Moons           |"
   ]
  },
  {
   "cell_type": "code",
   "execution_count": 13,
   "metadata": {},
   "outputs": [],
   "source": [
    "# Dataset 1: Linear\n",
    "df_linear = generate_mixed_dataset(n_samples=300, n_features=15, n_categorical=4, n_ordinal=3, n_integer=3,\n",
    "                                   n_classes=3, class_balance=[0.6, 0.3, 0.1], noise=0.2, dataset_type='linear')\n",
    "\n",
    "# Dataset 2: Moons\n",
    "df_moons = generate_mixed_dataset(n_samples=150, n_features=8, n_categorical=2, n_ordinal=1, n_integer=1,\n",
    "                                  n_classes=2, class_balance=None, noise=0.1, dataset_type='moons')\n",
    "\n",
    "\n",
    "# Dataset 3: Circles\n",
    "df_circles = generate_mixed_dataset(n_samples=250, n_features=12, n_categorical=3, n_ordinal=2, n_integer=2,\n",
    "                                    n_classes=4, class_balance=[0.5, 0.3, 0.15, 0.05], noise=0.1, dataset_type='circles')\n",
    "\n",
    "\n",
    "# Dataset 4: Blobs\n",
    "df_blobs = generate_mixed_dataset(n_samples=200, n_features=10, n_categorical=2, n_ordinal=2, n_integer=2,\n",
    "                                  n_classes=3, class_balance=[0.7, 0.2, 0.1], noise=0.2, dataset_type='blobs')\n",
    "\n",
    "\n",
    "# Dataset 5: Complex (Blobs com Mais Ruído)\n",
    "df_complex = generate_mixed_dataset(n_samples=400, n_features=20, n_categorical=5, n_ordinal=3, n_integer=3,\n",
    "                                    n_classes=4, class_balance=[0.5, 0.3, 0.15, 0.05], noise=0.4, dataset_type='blobs')\n",
    "\n",
    "\n",
    "# Dataset 6: Noisy Linear\n",
    "df_noisy_linear = generate_mixed_dataset(n_samples=100, n_features=5, n_categorical=1, n_ordinal=1, n_integer=1,\n",
    "                                         n_classes=2, class_balance=None, noise=0.5, dataset_type='linear')\n",
    "\n",
    "\n",
    "# Dataset 7: Multi Moons\n",
    "df_multi_moons = generate_mixed_dataset(n_samples=500, n_features=25, n_categorical=6, n_ordinal=4, n_integer=4,\n",
    "                                        n_classes=5, class_balance=[0.4, 0.3, 0.2, 0.08, 0.02], noise=0.3, dataset_type='moons')\n"
   ]
  },
  {
   "cell_type": "code",
   "execution_count": 14,
   "metadata": {},
   "outputs": [
    {
     "name": "stdout",
     "output_type": "stream",
     "text": [
      "Dataset 1 - Linear:\n",
      "   Continuous_1  Continuous_2  Continuous_3  Continuous_4  Continuous_5  \\\n",
      "0      6.989648     -1.945206      3.023859      1.182231      0.278835   \n",
      "1      3.006515     -4.898161      6.333545     -0.275117     -0.568798   \n",
      "2     -2.969395     -2.618095      2.442972      1.146152     -1.361517   \n",
      "3      4.504825     -0.694414     -1.174836     -0.794338      3.717030   \n",
      "4     -3.487806      1.616072      1.264624      4.659925     -0.047828   \n",
      "\n",
      "   Continuous_6  Continuous_7  Continuous_8  Continuous_9  Continuous_10  ...  \\\n",
      "0      5.244402     -0.559871      2.010185     -2.379406       1.560066  ...   \n",
      "1      3.374050      1.749962     -1.692300      0.005870       4.145944  ...   \n",
      "2      0.898219     -2.436304     -1.847875      3.278797       4.552161  ...   \n",
      "3     -0.748132     -2.793930      2.759622     -1.252518      -2.317956  ...   \n",
      "4      5.085898      0.254505      0.702009     -1.098722      -1.904772  ...   \n",
      "\n",
      "   Categorical_2  Categorical_3  Categorical_4  Ordinal_1  Ordinal_2  \\\n",
      "0              D              A              C          5          2   \n",
      "1              D              A              A          2          5   \n",
      "2              B              C              C          1          5   \n",
      "3              C              D              A          4          2   \n",
      "4              D              D              C          1          2   \n",
      "\n",
      "  Ordinal_3 Integer_1 Integer_2 Integer_3  Target  \n",
      "0         4        11        86        11       1  \n",
      "1         5        12        24        44       1  \n",
      "2         1        18        54        99       0  \n",
      "3         2        44         7        92       1  \n",
      "4         5        52        54        31       2  \n",
      "\n",
      "[5 rows x 26 columns]\n"
     ]
    }
   ],
   "source": [
    "#Dataset 1\n",
    "print(\"Dataset 1 - Linear:\")\n",
    "print(df_linear.head())"
   ]
  },
  {
   "cell_type": "code",
   "execution_count": 15,
   "metadata": {},
   "outputs": [
    {
     "name": "stdout",
     "output_type": "stream",
     "text": [
      "\n",
      "Dataset 2 - Moons:\n",
      "   Continuous_1  Continuous_2  Continuous_3  Continuous_4  Continuous_5  \\\n",
      "0     -1.052541     -0.107064     37.454012     95.071431     73.199394   \n",
      "1      0.643030      0.766310      5.808361     86.617615     60.111501   \n",
      "2      1.230762     -0.510420     83.244264     21.233911     18.182497   \n",
      "3      0.058244      0.488801     43.194502     29.122914     61.185289   \n",
      "4      0.026613      0.489010     45.606998     78.517596     19.967378   \n",
      "\n",
      "   Continuous_6  Continuous_7  Continuous_8 Categorical_1 Categorical_2  \\\n",
      "0     59.865848     15.601864     15.599452             C             A   \n",
      "1     70.807258      2.058449     96.990985             C             D   \n",
      "2     18.340451     30.424224     52.475643             A             C   \n",
      "3     13.949386     29.214465     36.636184             D             A   \n",
      "4     51.423444     59.241457      4.645041             D             B   \n",
      "\n",
      "   Ordinal_1  Integer_1  Target  \n",
      "0          5         31       0  \n",
      "1          5         52       0  \n",
      "2          2         29       1  \n",
      "3          3         38       1  \n",
      "4          3         30       1  \n"
     ]
    }
   ],
   "source": [
    "#Dataset 2\n",
    "print(\"\\nDataset 2 - Moons:\")\n",
    "print(df_moons.head())"
   ]
  },
  {
   "cell_type": "code",
   "execution_count": 16,
   "metadata": {},
   "outputs": [
    {
     "name": "stdout",
     "output_type": "stream",
     "text": [
      "\n",
      "Dataset 3 - Circles:\n",
      "   Continuous_1  Continuous_2  Continuous_3  Continuous_4  Continuous_5  \\\n",
      "0      0.510922      0.665101     37.454012     95.071431     73.199394   \n",
      "1      1.079759      0.303606      2.058449     96.990985     83.244264   \n",
      "2      0.279558     -0.899354     61.185289     13.949386     29.214465   \n",
      "3     -0.971550     -0.019015     60.754485     17.052412      6.505159   \n",
      "4      0.691219     -0.533806     12.203823     49.517691      3.438852   \n",
      "\n",
      "   Continuous_6  Continuous_7  Continuous_8  Continuous_9  Continuous_10  \\\n",
      "0     59.865848     15.601864     15.599452      5.808361      86.617615   \n",
      "1     21.233911     18.182497     18.340451     30.424224      52.475643   \n",
      "2     36.636184     45.606998     78.517596     19.967378      51.423444   \n",
      "3     94.888554     96.563203     80.839735     30.461377       9.767211   \n",
      "4     90.932040     25.877998     66.252228     31.171108      52.006802   \n",
      "\n",
      "   Continuous_11  Continuous_12 Categorical_1 Categorical_2 Categorical_3  \\\n",
      "0      60.111501      70.807258             C             C             C   \n",
      "1      43.194502      29.122914             C             D             C   \n",
      "2      59.241457       4.645041             A             C             D   \n",
      "3      68.423303      44.015249             C             A             D   \n",
      "4      54.671028      18.485446             D             A             A   \n",
      "\n",
      "   Ordinal_1  Ordinal_2  Integer_1  Integer_2  Target  \n",
      "0          2          4         15         24       1  \n",
      "1          2          4         53         27       0  \n",
      "2          5          5         72         55       0  \n",
      "3          1          3         64         92       0  \n",
      "4          4          1         85         79       0  \n"
     ]
    }
   ],
   "source": [
    "#Dataset 3\n",
    "print(\"\\nDataset 3 - Circles:\")\n",
    "print(df_circles.head())"
   ]
  },
  {
   "cell_type": "code",
   "execution_count": 17,
   "metadata": {},
   "outputs": [
    {
     "name": "stdout",
     "output_type": "stream",
     "text": [
      "\n",
      "Dataset 4 - Blobs:\n",
      "   Continuous_1  Continuous_2  Continuous_3  Continuous_4  Continuous_5  \\\n",
      "0      8.371428      2.920836     37.454012     95.071431     73.199394   \n",
      "1     -7.748688     10.658091     60.111501     70.807258      2.058449   \n",
      "2     -6.904121     -8.674618     30.424224     52.475643     43.194502   \n",
      "3     -9.775796     -9.695037     45.606998     78.517596     19.967378   \n",
      "4     -8.058357     -5.180905      6.505159     94.888554     96.563203   \n",
      "\n",
      "   Continuous_6  Continuous_7  Continuous_8  Continuous_9  Continuous_10  \\\n",
      "0     59.865848     15.601864     15.599452      5.808361      86.617615   \n",
      "1     96.990985     83.244264     21.233911     18.182497      18.340451   \n",
      "2     29.122914     61.185289     13.949386     29.214465      36.636184   \n",
      "3     51.423444     59.241457      4.645041     60.754485      17.052412   \n",
      "4     80.839735     30.461377      9.767211     68.423303      44.015249   \n",
      "\n",
      "  Categorical_1 Categorical_2  Ordinal_1  Ordinal_2  Integer_1  Integer_2  \\\n",
      "0             C             A          5          4         94         58   \n",
      "1             D             A          5          2         26         68   \n",
      "2             C             B          4          3         24          2   \n",
      "3             A             C          4          3         96         67   \n",
      "4             D             A          3          4         24         19   \n",
      "\n",
      "   Target  \n",
      "0       1  \n",
      "1       0  \n",
      "2       2  \n",
      "3       2  \n",
      "4       2  \n"
     ]
    }
   ],
   "source": [
    "#Dataset 4\n",
    "print(\"\\nDataset 4 - Blobs:\")\n",
    "print(df_blobs.head())"
   ]
  },
  {
   "cell_type": "code",
   "execution_count": 18,
   "metadata": {},
   "outputs": [
    {
     "name": "stdout",
     "output_type": "stream",
     "text": [
      "\n",
      "Dataset 5 - Complex (Blobs com Mais Ruído):\n",
      "   Continuous_1  Continuous_2  Continuous_3  Continuous_4  Continuous_5  \\\n",
      "0    -13.960045     14.342700     37.454012     95.071431     73.199394   \n",
      "1    -12.988178     12.301896     43.194502     29.122914     61.185289   \n",
      "2     -9.821300      6.232629     30.461377      9.767211     68.423303   \n",
      "3      8.540358      1.384940     59.789998     92.187424      8.849250   \n",
      "4      6.923441      6.515432      0.552212     81.546143     70.685734   \n",
      "\n",
      "   Continuous_6  Continuous_7  Continuous_8  Continuous_9  Continuous_10  ...  \\\n",
      "0     59.865848     15.601864     15.599452      5.808361      86.617615  ...   \n",
      "1     13.949386     29.214465     36.636184     45.606998      78.517596  ...   \n",
      "2     44.015249     12.203823     49.517691      3.438852      90.932040  ...   \n",
      "3     19.598286      4.522729     32.533033     38.867729      27.134903  ...   \n",
      "4     72.900717     77.127035      7.404465     35.846573      11.586906  ...   \n",
      "\n",
      "   Categorical_3  Categorical_4  Categorical_5  Ordinal_1  Ordinal_2  \\\n",
      "0              B              C              B          3          3   \n",
      "1              A              A              C          2          5   \n",
      "2              C              C              C          2          5   \n",
      "3              D              B              C          1          1   \n",
      "4              A              C              D          2          2   \n",
      "\n",
      "   Ordinal_3  Integer_1  Integer_2  Integer_3  Target  \n",
      "0          1         71         64         52       3  \n",
      "1          5         99          6          4       0  \n",
      "2          2         23         27         61       3  \n",
      "3          1         16         19          2       1  \n",
      "4          4         36         89         14       1  \n",
      "\n",
      "[5 rows x 32 columns]\n"
     ]
    }
   ],
   "source": [
    "#Dataset 5\n",
    "print(\"\\nDataset 5 - Complex (Blobs com Mais Ruído):\")\n",
    "print(df_complex.head())"
   ]
  },
  {
   "cell_type": "code",
   "execution_count": 19,
   "metadata": {},
   "outputs": [
    {
     "name": "stdout",
     "output_type": "stream",
     "text": [
      "\n",
      "Dataset 6 - Noisy Linear:\n",
      "   Continuous_1  Continuous_2  Continuous_3  Continuous_4  Continuous_5  \\\n",
      "0      1.414052      0.009295      1.723905      1.605053     -1.269267   \n",
      "1     -1.868046     -0.673467      0.448105      0.820803      0.416250   \n",
      "2      0.921306      0.403789      3.200886      0.106783      1.984403   \n",
      "3      1.132650      2.354567      0.223809      0.325295     -1.384191   \n",
      "4      1.610064      0.029497      1.852283      2.396220      0.113681   \n",
      "\n",
      "  Categorical_1  Ordinal_1  Integer_1  Target  \n",
      "0             C          2         96       1  \n",
      "1             D          2         50       1  \n",
      "2             A          4         43       0  \n",
      "3             C          2         23       1  \n",
      "4             C          2         78       1  \n"
     ]
    }
   ],
   "source": [
    "#Dataset 6\n",
    "print(\"\\nDataset 6 - Noisy Linear:\")\n",
    "print(df_noisy_linear.head())"
   ]
  },
  {
   "cell_type": "code",
   "execution_count": 20,
   "metadata": {},
   "outputs": [
    {
     "name": "stdout",
     "output_type": "stream",
     "text": [
      "\n",
      "Dataset 7 - Multi Moons:\n",
      "   Continuous_1  Continuous_2  Continuous_3  Continuous_4  Continuous_5  \\\n",
      "0      0.831039     -0.258749     37.454012     95.071431     73.199394   \n",
      "1      1.185064      0.920387     36.636184     45.606998     78.517596   \n",
      "2      1.164022     -0.455526     31.171108     52.006802     54.671028   \n",
      "3     -0.023656      1.086288     98.688694     77.224477     19.871568   \n",
      "4      0.480503      1.509424     76.078505     56.127720     77.096718   \n",
      "\n",
      "   Continuous_6  Continuous_7  Continuous_8  Continuous_9  Continuous_10  ...  \\\n",
      "0     59.865848     15.601864     15.599452      5.808361      86.617615  ...   \n",
      "1     19.967378     51.423444     59.241457      4.645041      60.754485  ...   \n",
      "2     18.485446     96.958463     77.513282     93.949894      89.482735  ...   \n",
      "3      0.552212     81.546143     70.685734     72.900717      77.127035  ...   \n",
      "4     49.379560     52.273283     42.754102      2.541913      10.789143  ...   \n",
      "\n",
      "   Categorical_6  Ordinal_1  Ordinal_2  Ordinal_3  Ordinal_4  Integer_1  \\\n",
      "0              C          2          3          4          4         60   \n",
      "1              B          2          2          2          3         61   \n",
      "2              C          3          1          2          1         31   \n",
      "3              B          5          3          4          5         86   \n",
      "4              B          4          5          1          1         53   \n",
      "\n",
      "   Integer_2  Integer_3  Integer_4  Target  \n",
      "0          1         32         71       1  \n",
      "1         58         39         48       0  \n",
      "2         37         91         78       1  \n",
      "3         87         12         84       0  \n",
      "4         75         12         38       0  \n",
      "\n",
      "[5 rows x 40 columns]\n"
     ]
    }
   ],
   "source": [
    "#Dataset 7\n",
    "print(\"\\nDataset 7 - Multi Moons:\")\n",
    "print(df_multi_moons.head())"
   ]
  }
 ],
 "metadata": {
  "kernelspec": {
   "display_name": "Python 3",
   "language": "python",
   "name": "python3"
  },
  "language_info": {
   "codemirror_mode": {
    "name": "ipython",
    "version": 3
   },
   "file_extension": ".py",
   "mimetype": "text/x-python",
   "name": "python",
   "nbconvert_exporter": "python",
   "pygments_lexer": "ipython3",
   "version": "3.10.0"
  }
 },
 "nbformat": 4,
 "nbformat_minor": 2
}
