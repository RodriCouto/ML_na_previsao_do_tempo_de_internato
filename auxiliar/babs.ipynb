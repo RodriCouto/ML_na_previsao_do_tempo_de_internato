{
 "cells": [
  {
   "cell_type": "markdown",
   "metadata": {},
   "source": [
    "## Árvorezinhas"
   ]
  },
  {
   "cell_type": "code",
   "execution_count": 10,
   "metadata": {},
   "outputs": [],
   "source": [
    "from sklearn import tree\n",
    "from sklearn.model_selection import cross_val_score\n",
    "import numpy as np\n",
    "import pandas as pd\n",
    "from gerarDS import generate_mixed_dataset"
   ]
  },
  {
   "cell_type": "markdown",
   "metadata": {},
   "source": [
    "### Escolher o DS adequado"
   ]
  },
  {
   "cell_type": "markdown",
   "metadata": {},
   "source": [
    "Decision trees are particularly effective when dealing with categorical and numerical data, making them an excellent choice for datasets that contain a mix of variable types. They are especially useful for classification problems, whether binary (e.g., spam detection) or multiclass (e.g., sentiment analysis). Decision trees efficiently capture interactions between features, allowing them to model complex relationships without requiring additional transformations.\n",
    "\n",
    "Another key advantage is their ability to handle nonlinear data, as they split the dataset based on thresholds that naturally define decision boundaries. Additionally, decision trees can process missing values without the need for imputation and offer feature importance insights, helping to identify the most influential attributes. However, while they perform well on small to medium-sized datasets, they may struggle with very large datasets due to computational inefficiency and risk of overfitting.\n",
    "\n",
    "Since decision trees can struggle with imbalanced datasets, where the majority class dominates, they should take balenced dataset to mitigate bias.\n",
    "\n",
    "By generating a dataset with the described characteristics, we can effectively demonstrate that decision trees outperform other machine learning models in such scenarios, as they naturally leverage structure and patterns that other algorithms may struggle with.\n",
    "\n",
    "Acrscentar alguma cena sobre noise"
   ]
  },
  {
   "cell_type": "code",
   "execution_count": 11,
   "metadata": {},
   "outputs": [
    {
     "data": {
      "text/html": [
       "<div>\n",
       "<style scoped>\n",
       "    .dataframe tbody tr th:only-of-type {\n",
       "        vertical-align: middle;\n",
       "    }\n",
       "\n",
       "    .dataframe tbody tr th {\n",
       "        vertical-align: top;\n",
       "    }\n",
       "\n",
       "    .dataframe thead th {\n",
       "        text-align: right;\n",
       "    }\n",
       "</style>\n",
       "<table border=\"1\" class=\"dataframe\">\n",
       "  <thead>\n",
       "    <tr style=\"text-align: right;\">\n",
       "      <th></th>\n",
       "      <th>Continuous_1</th>\n",
       "      <th>Continuous_2</th>\n",
       "      <th>Continuous_3</th>\n",
       "      <th>Continuous_4</th>\n",
       "      <th>Continuous_5</th>\n",
       "      <th>Ordinal_1</th>\n",
       "      <th>Ordinal_2</th>\n",
       "      <th>Integer_1</th>\n",
       "      <th>Integer_2</th>\n",
       "      <th>Integer_3</th>\n",
       "      <th>Integer_4</th>\n",
       "      <th>Integer_5</th>\n",
       "      <th>Target</th>\n",
       "    </tr>\n",
       "  </thead>\n",
       "  <tbody>\n",
       "    <tr>\n",
       "      <th>0</th>\n",
       "      <td>-1.901560</td>\n",
       "      <td>10.457411</td>\n",
       "      <td>37.454012</td>\n",
       "      <td>95.071431</td>\n",
       "      <td>73.199394</td>\n",
       "      <td>5</td>\n",
       "      <td>2</td>\n",
       "      <td>42</td>\n",
       "      <td>68</td>\n",
       "      <td>62</td>\n",
       "      <td>92</td>\n",
       "      <td>9</td>\n",
       "      <td>0</td>\n",
       "    </tr>\n",
       "    <tr>\n",
       "      <th>1</th>\n",
       "      <td>5.431477</td>\n",
       "      <td>2.500271</td>\n",
       "      <td>59.865848</td>\n",
       "      <td>15.601864</td>\n",
       "      <td>15.599452</td>\n",
       "      <td>4</td>\n",
       "      <td>5</td>\n",
       "      <td>12</td>\n",
       "      <td>92</td>\n",
       "      <td>4</td>\n",
       "      <td>57</td>\n",
       "      <td>58</td>\n",
       "      <td>1</td>\n",
       "    </tr>\n",
       "    <tr>\n",
       "      <th>2</th>\n",
       "      <td>-2.893920</td>\n",
       "      <td>9.617381</td>\n",
       "      <td>5.808361</td>\n",
       "      <td>86.617615</td>\n",
       "      <td>60.111501</td>\n",
       "      <td>1</td>\n",
       "      <td>1</td>\n",
       "      <td>75</td>\n",
       "      <td>58</td>\n",
       "      <td>76</td>\n",
       "      <td>85</td>\n",
       "      <td>14</td>\n",
       "      <td>0</td>\n",
       "    </tr>\n",
       "    <tr>\n",
       "      <th>3</th>\n",
       "      <td>-1.059006</td>\n",
       "      <td>10.046643</td>\n",
       "      <td>70.807258</td>\n",
       "      <td>2.058449</td>\n",
       "      <td>96.990985</td>\n",
       "      <td>2</td>\n",
       "      <td>1</td>\n",
       "      <td>76</td>\n",
       "      <td>0</td>\n",
       "      <td>37</td>\n",
       "      <td>52</td>\n",
       "      <td>51</td>\n",
       "      <td>0</td>\n",
       "    </tr>\n",
       "    <tr>\n",
       "      <th>4</th>\n",
       "      <td>7.974327</td>\n",
       "      <td>5.019647</td>\n",
       "      <td>83.244264</td>\n",
       "      <td>21.233911</td>\n",
       "      <td>18.182497</td>\n",
       "      <td>1</td>\n",
       "      <td>1</td>\n",
       "      <td>0</td>\n",
       "      <td>10</td>\n",
       "      <td>57</td>\n",
       "      <td>39</td>\n",
       "      <td>85</td>\n",
       "      <td>1</td>\n",
       "    </tr>\n",
       "  </tbody>\n",
       "</table>\n",
       "</div>"
      ],
      "text/plain": [
       "   Continuous_1  Continuous_2  Continuous_3  Continuous_4  Continuous_5  \\\n",
       "0     -1.901560     10.457411     37.454012     95.071431     73.199394   \n",
       "1      5.431477      2.500271     59.865848     15.601864     15.599452   \n",
       "2     -2.893920      9.617381      5.808361     86.617615     60.111501   \n",
       "3     -1.059006     10.046643     70.807258      2.058449     96.990985   \n",
       "4      7.974327      5.019647     83.244264     21.233911     18.182497   \n",
       "\n",
       "   Ordinal_1  Ordinal_2  Integer_1  Integer_2  Integer_3  Integer_4  \\\n",
       "0          5          2         42         68         62         92   \n",
       "1          4          5         12         92          4         57   \n",
       "2          1          1         75         58         76         85   \n",
       "3          2          1         76          0         37         52   \n",
       "4          1          1          0         10         57         39   \n",
       "\n",
       "   Integer_5  Target  \n",
       "0          9       0  \n",
       "1         58       1  \n",
       "2         14       0  \n",
       "3         51       0  \n",
       "4         85       1  "
      ]
     },
     "execution_count": 11,
     "metadata": {},
     "output_type": "execute_result"
    }
   ],
   "source": [
    "df_trees = generate_mixed_dataset(n_samples=3000, n_features=5, n_categorical=0, n_ordinal=2,\n",
    "                                  n_integer=5, n_classes=2, class_balance=[0.5, 0.5], noise=0.2,\n",
    "                                  dataset_type='blobs', random_state=42)\n",
    "\n",
    "df_trees.head()"
   ]
  },
  {
   "cell_type": "code",
   "execution_count": 12,
   "metadata": {},
   "outputs": [],
   "source": [
    "X = df_trees.drop(columns=[\"Target\"])\n",
    "y = df_trees[\"Target\"]"
   ]
  },
  {
   "cell_type": "markdown",
   "metadata": {},
   "source": [
    "### Árvore chillada"
   ]
  },
  {
   "cell_type": "code",
   "execution_count": 13,
   "metadata": {},
   "outputs": [
    {
     "data": {
      "text/plain": [
       "[Text(0.5208333333333334, 0.9375, 'x[1] <= 5.439\\ngini = 0.5\\nsamples = 3000\\nvalue = [1500, 1500]'),\n",
       " Text(0.21666666666666667, 0.8125, 'x[0] <= -0.425\\ngini = 0.055\\nsamples = 1486\\nvalue = [42, 1444]'),\n",
       " Text(0.13333333333333333, 0.6875, 'x[1] <= 3.125\\ngini = 0.169\\nsamples = 43\\nvalue = [39, 4]'),\n",
       " Text(0.06666666666666667, 0.5625, 'x[8] <= 51.5\\ngini = 0.375\\nsamples = 4\\nvalue = [1, 3]'),\n",
       " Text(0.03333333333333333, 0.4375, 'gini = 0.0\\nsamples = 1\\nvalue = [1, 0]'),\n",
       " Text(0.1, 0.4375, 'gini = 0.0\\nsamples = 3\\nvalue = [0, 3]'),\n",
       " Text(0.2, 0.5625, 'x[3] <= 3.436\\ngini = 0.05\\nsamples = 39\\nvalue = [38, 1]'),\n",
       " Text(0.16666666666666666, 0.4375, 'gini = 0.0\\nsamples = 1\\nvalue = [0, 1]'),\n",
       " Text(0.23333333333333334, 0.4375, 'gini = 0.0\\nsamples = 38\\nvalue = [38, 0]'),\n",
       " Text(0.3, 0.6875, 'x[1] <= 4.865\\ngini = 0.004\\nsamples = 1443\\nvalue = [3, 1440]'),\n",
       " Text(0.26666666666666666, 0.5625, 'gini = 0.0\\nsamples = 1394\\nvalue = [0, 1394]'),\n",
       " Text(0.3333333333333333, 0.5625, 'x[1] <= 4.868\\ngini = 0.115\\nsamples = 49\\nvalue = [3, 46]'),\n",
       " Text(0.3, 0.4375, 'gini = 0.0\\nsamples = 1\\nvalue = [1, 0]'),\n",
       " Text(0.36666666666666664, 0.4375, 'x[3] <= 89.663\\ngini = 0.08\\nsamples = 48\\nvalue = [2, 46]'),\n",
       " Text(0.3, 0.3125, 'x[7] <= 79.5\\ngini = 0.043\\nsamples = 46\\nvalue = [1, 45]'),\n",
       " Text(0.26666666666666666, 0.1875, 'gini = 0.0\\nsamples = 43\\nvalue = [0, 43]'),\n",
       " Text(0.3333333333333333, 0.1875, 'x[3] <= 41.823\\ngini = 0.444\\nsamples = 3\\nvalue = [1, 2]'),\n",
       " Text(0.3, 0.0625, 'gini = 0.0\\nsamples = 1\\nvalue = [1, 0]'),\n",
       " Text(0.36666666666666664, 0.0625, 'gini = 0.0\\nsamples = 2\\nvalue = [0, 2]'),\n",
       " Text(0.43333333333333335, 0.3125, 'x[11] <= 60.5\\ngini = 0.5\\nsamples = 2\\nvalue = [1, 1]'),\n",
       " Text(0.4, 0.1875, 'gini = 0.0\\nsamples = 1\\nvalue = [0, 1]'),\n",
       " Text(0.4666666666666667, 0.1875, 'gini = 0.0\\nsamples = 1\\nvalue = [1, 0]'),\n",
       " Text(0.825, 0.8125, 'x[0] <= 2.829\\ngini = 0.071\\nsamples = 1514\\nvalue = [1458.0, 56.0]'),\n",
       " Text(0.7166666666666667, 0.6875, 'x[1] <= 6.079\\ngini = 0.012\\nsamples = 1465\\nvalue = [1456, 9]'),\n",
       " Text(0.6, 0.5625, 'x[0] <= -0.111\\ngini = 0.249\\nsamples = 55\\nvalue = [47, 8]'),\n",
       " Text(0.5333333333333333, 0.4375, 'x[2] <= 97.839\\ngini = 0.043\\nsamples = 45\\nvalue = [44, 1]'),\n",
       " Text(0.5, 0.3125, 'gini = 0.0\\nsamples = 44\\nvalue = [44, 0]'),\n",
       " Text(0.5666666666666667, 0.3125, 'gini = 0.0\\nsamples = 1\\nvalue = [0, 1]'),\n",
       " Text(0.6666666666666666, 0.4375, 'x[10] <= 41.0\\ngini = 0.42\\nsamples = 10\\nvalue = [3, 7]'),\n",
       " Text(0.6333333333333333, 0.3125, 'x[9] <= 46.5\\ngini = 0.375\\nsamples = 4\\nvalue = [3, 1]'),\n",
       " Text(0.6, 0.1875, 'gini = 0.0\\nsamples = 3\\nvalue = [3, 0]'),\n",
       " Text(0.6666666666666666, 0.1875, 'gini = 0.0\\nsamples = 1\\nvalue = [0, 1]'),\n",
       " Text(0.7, 0.3125, 'gini = 0.0\\nsamples = 6\\nvalue = [0, 6]'),\n",
       " Text(0.8333333333333334, 0.5625, 'x[9] <= 2.5\\ngini = 0.001\\nsamples = 1410\\nvalue = [1409, 1]'),\n",
       " Text(0.8, 0.4375, 'x[7] <= 8.5\\ngini = 0.041\\nsamples = 48\\nvalue = [47, 1]'),\n",
       " Text(0.7666666666666667, 0.3125, 'x[7] <= 4.0\\ngini = 0.444\\nsamples = 3\\nvalue = [2, 1]'),\n",
       " Text(0.7333333333333333, 0.1875, 'gini = 0.0\\nsamples = 2\\nvalue = [2, 0]'),\n",
       " Text(0.8, 0.1875, 'gini = 0.0\\nsamples = 1\\nvalue = [0, 1]'),\n",
       " Text(0.8333333333333334, 0.3125, 'gini = 0.0\\nsamples = 45\\nvalue = [45, 0]'),\n",
       " Text(0.8666666666666667, 0.4375, 'gini = 0.0\\nsamples = 1362\\nvalue = [1362, 0]'),\n",
       " Text(0.9333333333333333, 0.6875, 'x[1] <= 9.726\\ngini = 0.078\\nsamples = 49\\nvalue = [2.0, 47.0]'),\n",
       " Text(0.9, 0.5625, 'gini = 0.0\\nsamples = 47\\nvalue = [0, 47]'),\n",
       " Text(0.9666666666666667, 0.5625, 'gini = 0.0\\nsamples = 2\\nvalue = [2, 0]')]"
      ]
     },
     "execution_count": 13,
     "metadata": {},
     "output_type": "execute_result"
    },
    {
     "data": {
      "image/png": "[encoded data removed]",
      "text/plain": [
       "<Figure size 640x480 with 1 Axes>"
      ]
     },
     "metadata": {},
     "output_type": "display_data"
    }
   ],
   "source": [
    "dtc = tree.DecisionTreeClassifier()\n",
    "dtc = dtc.fit(X, y)\n",
    "tree.plot_tree(dtc)"
   ]
  },
  {
   "cell_type": "code",
   "execution_count": 14,
   "metadata": {},
   "outputs": [
    {
     "data": {
      "text/plain": [
       "array([0.99166667, 0.99166667, 0.98666667, 0.98166667, 0.99333333])"
      ]
     },
     "execution_count": 14,
     "metadata": {},
     "output_type": "execute_result"
    }
   ],
   "source": [
    "cross_val_score(dtc, X, y, cv=5)"
   ]
  },
  {
   "cell_type": "code",
   "execution_count": 15,
   "metadata": {},
   "outputs": [
    {
     "data": {
      "text/plain": [
       "array([0.985, 0.985, 0.995, 0.99 , 0.975])"
      ]
     },
     "execution_count": 15,
     "metadata": {},
     "output_type": "execute_result"
    }
   ],
   "source": [
    "new_df = generate_mixed_dataset(n_samples=1000, n_features=5, n_categorical=0, n_ordinal=2,\n",
    "                                  n_integer=5, n_classes=2, class_balance=[0.5, 0.5], noise=0.2,\n",
    "                                  dataset_type='blobs', random_state=42)\n",
    "\n",
    "X_new = new_df.drop(columns=[\"Target\"])\n",
    "y_new = new_df[\"Target\"]\n",
    "cross_val_score(dtc, X_new, y_new, cv=5)"
   ]
  },
  {
   "cell_type": "markdown",
   "metadata": {},
   "source": [
    "### Árvore circuncisada"
   ]
  },
  {
   "cell_type": "markdown",
   "metadata": {},
   "source": [
    "One limitation of decision trees is their tendency to overfit, capturing noise rather than meaningful patterns, especially when the tree grows too deep. To counteract this, we can apply pruning techniques.\n",
    "\n",
    "Pre-pruning (early stopping) restricts tree growth using constraints like maximum depth or minimum samples per leaf, ensuring that only meaningful splits occur. Post-pruning, on the other hand, involves growing the tree fully and then removing less important branches based on validation performance. Both methods improve generalization, preventing the model from memorizing data-specific noise.\n",
    "\n",
    "By generating a dataset and applying pruning, we can empirically demonstrate that pruned decision trees generalize better, maintaining high accuracy while avoiding overfitting. This will further reinforce the argument that decision trees are well-suited for datasets with structured, mixed-variable data."
   ]
  },
  {
   "cell_type": "code",
   "execution_count": 17,
   "metadata": {},
   "outputs": [
    {
     "data": {
      "text/plain": [
       "[Text(0.5, 0.8333333333333334, 'x[1] <= 5.439\\ngini = 0.5\\nsamples = 3000\\nvalue = [1500, 1500]'),\n",
       " Text(0.25, 0.5, 'x[0] <= -0.425\\ngini = 0.055\\nsamples = 1486\\nvalue = [42, 1444]'),\n",
       " Text(0.125, 0.16666666666666666, 'gini = 0.169\\nsamples = 43\\nvalue = [39, 4]'),\n",
       " Text(0.375, 0.16666666666666666, 'gini = 0.004\\nsamples = 1443\\nvalue = [3, 1440]'),\n",
       " Text(0.75, 0.5, 'x[0] <= 2.829\\ngini = 0.071\\nsamples = 1514\\nvalue = [1458.0, 56.0]'),\n",
       " Text(0.625, 0.16666666666666666, 'gini = 0.012\\nsamples = 1465\\nvalue = [1456, 9]'),\n",
       " Text(0.875, 0.16666666666666666, 'gini = 0.078\\nsamples = 49\\nvalue = [2.0, 47.0]')]"
      ]
     },
     "execution_count": 17,
     "metadata": {},
     "output_type": "execute_result"
    },
    {
     "data": {
      "image/png": "[encoded data removed]",
      "text/plain": [
       "<Figure size 640x480 with 1 Axes>"
      ]
     },
     "metadata": {},
     "output_type": "display_data"
    }
   ],
   "source": [
    "dtcp = tree.DecisionTreeClassifier(max_depth=2)\n",
    "dtcp = dtcp.fit(X, y)\n",
    "tree.plot_tree(dtcp)"
   ]
  },
  {
   "cell_type": "code",
   "execution_count": 18,
   "metadata": {},
   "outputs": [
    {
     "data": {
      "text/plain": [
       "array([0.985, 0.995, 0.995, 0.995, 0.99 ])"
      ]
     },
     "execution_count": 18,
     "metadata": {},
     "output_type": "execute_result"
    }
   ],
   "source": [
    "cross_val_score(dtcp, X_new, y_new, cv=5)"
   ]
  },
  {
   "cell_type": "markdown",
   "metadata": {},
   "source": [
    "### Bueda árvores"
   ]
  },
  {
   "cell_type": "markdown",
   "metadata": {},
   "source": [
    "While decision trees are powerful, they can be unstable—small changes in the data can lead to a completely different tree structure. This instability makes them sensitive to variations, which can reduce consistency in predictions. Random Forest addresses this issue by combining multiple decision trees, reducing overfitting and increasing robustness.\n",
    "\n",
    "As an ensemble method, Random Forest builds multiple trees on different subsets of data and averages their predictions. This reduces variance and enhances model stability. Additionally, it provides feature importance rankings, making it valuable for data interpretation.\n",
    "By comparing our dataset’s performance using a single decision tree versus Random Forest, we can prove that while Random Forest improves stability and accuracy, decision trees remain the best choice for structured data with strong feature interactions. This will further support our hypothesis that decision trees are optimal for the dataset we generate."
   ]
  },
  {
   "cell_type": "markdown",
   "metadata": {},
   "source": [
    "### Como se comporta em outros tipos de algoritmos de ML"
   ]
  },
  {
   "cell_type": "markdown",
   "metadata": {},
   "source": [
    "By designing a dataset with these characteristics and testing it across different models, we can demonstrate that decision trees outperform other machine learning models for structured, mixed-type data. Pruning enhances their generalization ability, and comparing results with Random Forest will solidify our understanding of when decision trees work best and when ensemble methods provide additional benefits.\n"
   ]
  },
  {
   "cell_type": "markdown",
   "metadata": {},
   "source": [
    "### Bibliografia/Webgrafia:"
   ]
  },
  {
   "cell_type": "markdown",
   "metadata": {},
   "source": [
    "* https://www.quora.com/What-types-of-data-sets-are-appropriate-for-decision-tree\n",
    "* https://www.stratascratch.com/blog/tree-based-models-in-machine-learning/\n",
    "* https://scikit-learn.org/stable/modules/generated/sklearn.tree.DecisionTreeClassifier.html"
   ]
  },
  {
   "cell_type": "markdown",
   "metadata": {},
   "source": [
    "### Info original"
   ]
  },
  {
   "cell_type": "markdown",
   "metadata": {},
   "source": [
    "Decision Trees:\n",
    "Why They Work Best for Certain Data and Proving Their Strength\n",
    "\n",
    "    1. Categorical and Numerical Data: Decision trees can handle both categorical and numerical data, making them suitable for data sets with a mix of variable types. They can split the data based on categorical attributes and apply numerical thresholds for numeric attributes.\n",
    "    2. Classification Problems: Decision trees are often used for classification tasks, where the goal is to predict a categorical target variable. For example, they are commonly used in spam email detection, sentiment analysis, and medical diagnosis.\n",
    "    3. Binary and Multiclass Classification: Decision trees can handle both binary classification (two classes) and multiclass classification (more than two classes). They can be adapted to predict multiple classes by using techniques like one-hot encoding.\n",
    "    4. Data with Interactions: Decision trees are good at capturing interactions between features. If the relationships between variables are complex and involve multiple interactions, decision trees can be effective.\n",
    "    5. Nonlinear Data: Decision trees can model nonlinear relationships between features and the target variable. They can create splits that capture nonlinear patterns in the data.\n",
    "    6. Mixed Data: Data sets with mixed types of features, including both categorical and numerical, are suitable for decision trees. Decision trees can handle such data by choosing appropriate split criteria.\n",
    "    7. Highly Interpretability: If interpretability and transparency are crucial, decision trees are a preferred choice. The tree structure is easy to understand, and it allows users to trace the decision-making process.\n",
    "    8. Small to Medium-sized Data Sets: Decision trees are efficient for relatively small to medium-sized data sets. For very large data sets, they may become computationally expensive and may not perform as well as some other algorithms.\n",
    "    9. Feature Importance: Decision trees provide a measure of feature importance, which can help identify which features have the most influence on the target variable. This is valuable for feature selection and understanding the data.\n",
    "    10. Ensemble Methods: Decision trees can serve as base models in ensemble methods like Random Forests and Gradient Boosting, which often yield even better performance by combining multiple trees.\n",
    "    11. Imbalanced Data: While decision trees can handle imbalanced datasets, care must be taken to ensure that the model does not become biased toward the majority class.\n",
    "    12. Large Datasets: Decision trees can scale to large datasets, but performance may degrade if the tree becomes too deep, leading to overfitting.\n",
    "    13. Data with Missing Values: Decision trees can handle missing values, as they can make splits based on available data.\n",
    "    14. Overfitting: Decision trees can easily overfit if not pruned or constrained, so it’s important to monitor performance on validation data.\n",
    "    15. Interpretability: One of the strengths of decision trees is their interpretability, making them useful in applications where understanding the decision-making process is crucial.\n",
    "    16. Biased Trees with Imbalanced Data: If the training data is imbalanced (i.e., some classes are underrepresented), the decision tree might become biased towards the dominant class. This bias can skew the predictions, favoring the majority class at the expense of the minority class.\n",
    "    17. Sensitivity to Small Changes in Data: Decision trees can be quite sensitive to small changes in the training data. A slight change can lead to a significantly different tree structure. This lack of stability can be a concern in dynamic environments where data changes frequently."
   ]
  }
 ],
 "metadata": {
  "kernelspec": {
   "display_name": "Python 3",
   "language": "python",
   "name": "python3"
  },
  "language_info": {
   "codemirror_mode": {
    "name": "ipython",
    "version": 3
   },
   "file_extension": ".py",
   "mimetype": "text/x-python",
   "name": "python",
   "nbconvert_exporter": "python",
   "pygments_lexer": "ipython3",
   "version": "3.10.12"
  }
 },
 "nbformat": 4,
 "nbformat_minor": 2
}
